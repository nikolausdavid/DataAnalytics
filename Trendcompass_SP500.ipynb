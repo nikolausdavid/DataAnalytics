{
 "cells": [
  {
   "cell_type": "code",
   "execution_count": 1,
   "id": "ad740e21",
   "metadata": {},
   "outputs": [],
   "source": [
    "import pandas as pd\n",
    "import numpy as np\n",
    "from yahooquery import Ticker\n",
    "import yfinance as yf\n",
    "import matplotlib.pyplot as plt\n",
    "from datetime import date, timedelta\n",
    "import altair as alt"
   ]
  },
  {
   "cell_type": "code",
   "execution_count": 2,
   "id": "a106128a",
   "metadata": {},
   "outputs": [],
   "source": [
    "link = (\"https://en.wikipedia.org/wiki/List_of_S%26P_500_companies#S&P_500_component_stocks\")\n",
    "sp500_raw = pd.read_html(link, header=0)[0]\n",
    "sp500 = [str(stock) for stock in sp500_raw[\"Symbol\"]]"
   ]
  },
  {
   "cell_type": "code",
   "execution_count": 3,
   "id": "a31f780a",
   "metadata": {},
   "outputs": [
    {
     "data": {
      "text/plain": [
       "('2023-4-8', '2023-10-14', '2023-9-16', '2023-10-14')"
      ]
     },
     "execution_count": 3,
     "metadata": {},
     "output_type": "execute_result"
    }
   ],
   "source": [
    "today = date.today()\n",
    "start_date = date.today() - timedelta(weeks=27)\n",
    "start_date = f\"{start_date.year}-{start_date.month}-{start_date.day}\"\n",
    "today = f\"{today.year}-{today.month}-{today.day}\"\n",
    "momentum_start = date.today() - timedelta(weeks=4)\n",
    "momentum_start = f\"{momentum_start.year}-{momentum_start.month}-{momentum_start.day}\"\n",
    "start_date, today, momentum_start, today"
   ]
  },
  {
   "cell_type": "code",
   "execution_count": 4,
   "id": "3d1416d1",
   "metadata": {},
   "outputs": [],
   "source": [
    "def compass(stocks):\n",
    "    _data_points = [\"Stock\",\"Momentum\", \"Levy\"]\n",
    "    updated_stocks = []\n",
    "    for stock in stocks:\n",
    "        if len(pd.DataFrame(yf.Ticker(stock).history(start=start_date))[\"Close\"]) != 0:\n",
    "            updated_stocks.append(stock)\n",
    "        else:\n",
    "            pass\n",
    "    data = pd.DataFrame({\"Stock\": updated_stocks, \"Momentum\": None, \"Levy\": None}, index=updated_stocks)\n",
    "    for stock in updated_stocks:\n",
    "        data.loc[stock][\"Stock\"] = pd.DataFrame(sp500_raw).set_index(sp500_raw[\"Symbol\"]).loc[stock][\"Security\"]\n",
    "        data.loc[stock][\"Momentum\"] = momentum(stock)\n",
    "        data.loc[stock][\"Levy\"] = relative_strength(stock)\n",
    "    return data\n",
    "      \n",
    "def relative_strength(stock, start=start_date):\n",
    "    constructor = pd.DataFrame(yf.Ticker(stock).history(start=start))\n",
    "    strength = constructor[\"Close\"][-1] / np.mean(constructor[\"Close\"][:-1])\n",
    "    return strength\n",
    "\n",
    "def momentum(stock, start=momentum_start):\n",
    "    constructor = pd.DataFrame(yf.Ticker(stock).history(start=start))\n",
    "    moment = constructor[\"Close\"][-1] / constructor[\"Close\"][0]\n",
    "    return moment"
   ]
  },
  {
   "cell_type": "code",
   "execution_count": 5,
   "id": "ab4f4635",
   "metadata": {},
   "outputs": [],
   "source": [
    "data = compass(sp500[:10])"
   ]
  },
  {
   "cell_type": "code",
   "execution_count": 6,
   "id": "25e79b4a",
   "metadata": {},
   "outputs": [
    {
     "data": {
      "text/html": [
       "<div>\n",
       "<style scoped>\n",
       "    .dataframe tbody tr th:only-of-type {\n",
       "        vertical-align: middle;\n",
       "    }\n",
       "\n",
       "    .dataframe tbody tr th {\n",
       "        vertical-align: top;\n",
       "    }\n",
       "\n",
       "    .dataframe thead th {\n",
       "        text-align: right;\n",
       "    }\n",
       "</style>\n",
       "<table border=\"1\" class=\"dataframe\">\n",
       "  <thead>\n",
       "    <tr style=\"text-align: right;\">\n",
       "      <th></th>\n",
       "      <th>Stock</th>\n",
       "      <th>Momentum</th>\n",
       "      <th>Levy</th>\n",
       "    </tr>\n",
       "  </thead>\n",
       "  <tbody>\n",
       "    <tr>\n",
       "      <th>MMM</th>\n",
       "      <td>3M</td>\n",
       "      <td>0.877672</td>\n",
       "      <td>0.888163</td>\n",
       "    </tr>\n",
       "    <tr>\n",
       "      <th>AOS</th>\n",
       "      <td>A. O. Smith</td>\n",
       "      <td>1.046158</td>\n",
       "      <td>1.010677</td>\n",
       "    </tr>\n",
       "    <tr>\n",
       "      <th>ABT</th>\n",
       "      <td>Abbott</td>\n",
       "      <td>0.904683</td>\n",
       "      <td>0.871158</td>\n",
       "    </tr>\n",
       "    <tr>\n",
       "      <th>ABBV</th>\n",
       "      <td>AbbVie</td>\n",
       "      <td>0.970774</td>\n",
       "      <td>1.026457</td>\n",
       "    </tr>\n",
       "    <tr>\n",
       "      <th>ACN</th>\n",
       "      <td>Accenture</td>\n",
       "      <td>0.959484</td>\n",
       "      <td>0.998721</td>\n",
       "    </tr>\n",
       "    <tr>\n",
       "      <th>ATVI</th>\n",
       "      <td>Activision Blizzard</td>\n",
       "      <td>1.027309</td>\n",
       "      <td>1.096557</td>\n",
       "    </tr>\n",
       "    <tr>\n",
       "      <th>ADM</th>\n",
       "      <td>ADM</td>\n",
       "      <td>0.925874</td>\n",
       "      <td>0.944401</td>\n",
       "    </tr>\n",
       "    <tr>\n",
       "      <th>ADBE</th>\n",
       "      <td>Adobe Inc.</td>\n",
       "      <td>1.03069</td>\n",
       "      <td>1.164503</td>\n",
       "    </tr>\n",
       "    <tr>\n",
       "      <th>ADP</th>\n",
       "      <td>ADP</td>\n",
       "      <td>1.00089</td>\n",
       "      <td>1.075779</td>\n",
       "    </tr>\n",
       "    <tr>\n",
       "      <th>AES</th>\n",
       "      <td>AES Corporation</td>\n",
       "      <td>0.770492</td>\n",
       "      <td>0.665203</td>\n",
       "    </tr>\n",
       "  </tbody>\n",
       "</table>\n",
       "</div>"
      ],
      "text/plain": [
       "                    Stock  Momentum      Levy\n",
       "MMM                    3M  0.877672  0.888163\n",
       "AOS           A. O. Smith  1.046158  1.010677\n",
       "ABT                Abbott  0.904683  0.871158\n",
       "ABBV               AbbVie  0.970774  1.026457\n",
       "ACN             Accenture  0.959484  0.998721\n",
       "ATVI  Activision Blizzard  1.027309  1.096557\n",
       "ADM                   ADM  0.925874  0.944401\n",
       "ADBE           Adobe Inc.   1.03069  1.164503\n",
       "ADP                   ADP   1.00089  1.075779\n",
       "AES       AES Corporation  0.770492  0.665203"
      ]
     },
     "execution_count": 6,
     "metadata": {},
     "output_type": "execute_result"
    }
   ],
   "source": [
    "data"
   ]
  },
  {
   "cell_type": "code",
   "execution_count": null,
   "id": "f0973f40",
   "metadata": {},
   "outputs": [],
   "source": [
    "## Visualization Option 1\n",
    "base = alt.Chart(data)\n",
    "xscale = alt.Scale(domain=(0.5, 1.5))\n",
    "yscale = alt.Scale(domain=(0.5, 1.5))\n",
    "\n",
    "points = base.mark_circle(color=\"red\").encode(\n",
    "    alt.X(\"Levy:Q\").scale(xscale),\n",
    "    alt.Y(\"Momentum:Q\").scale(yscale),\n",
    ")\n",
    "\n",
    "text = points.mark_text(align='left',baseline='middle',dx=10).encode(\n",
    "    text=\"Stock\",\n",
    ")\n",
    "\n",
    "\n",
    "#y_line = alt.Chart(pd.DataFrame({'x': [1]})).mark_rule().encode(y='x')\n",
    "#x_line = alt.Chart(pd.DataFrame({\"y\":[1]})).mark_rule().encode(x=\"y\")\n",
    "x_line = alt.Chart().mark_rule(strokeDash=[10, 10]).encode(y=alt.datum(1))\n",
    "y_line = alt.Chart().mark_rule(strokeDash=[10, 10]).encode(x=alt.datum(1))\n",
    "\n",
    "\n",
    "(points+text+x_line+y_line).properties(width=650,height=500, title=\"Trending Stock Indicator\").interactive().save(\"Trendcompass.html\")"
   ]
  },
  {
   "cell_type": "code",
   "execution_count": null,
   "id": "c052d69b",
   "metadata": {},
   "outputs": [],
   "source": [
    "## Visualization Option 2\n",
    "points = alt.Chart(data).mark_point(color=\"purple\").encode(\n",
    "    alt.X(\"Levy:Q\", scale=alt.Scale(domain=[0.5, 1.5])),\n",
    "    alt.Y(\"Momentum:Q\", scale=alt.Scale(domain=[0.5, 1.5]))\n",
    ")\n",
    "\n",
    "text = points.mark_text(align='left',baseline='middle',dx=10).encode(\n",
    "    text=\"Stock\",\n",
    ")\n",
    "#y_line = alt.Chart(pd.DataFrame({'x': [1]})).mark_rule().encode(y='x')\n",
    "#x_line = alt.Chart(pd.DataFrame({\"y\":[1]})).mark_rule().encode(x=\"y\")\n",
    "x_line = alt.Chart().mark_rule(strokeDash=[10, 10]).encode(y=alt.datum(1))\n",
    "y_line = alt.Chart().mark_rule(strokeDash=[10, 10]).encode(x=alt.datum(1))\n",
    "\n",
    "\n",
    "(points+text+x_line+y_line).properties(width=650,height=500, title=\"Trending Stock Indicator\").interactive()#.save('Trendcompass.html')"
   ]
  },
  {
   "cell_type": "code",
   "execution_count": null,
   "id": "b67dc5e3",
   "metadata": {},
   "outputs": [],
   "source": [
    "data[\"Mean\"] = np.mean([data[\"Momentum\"], data[\"Levy\"]], axis=0)\n",
    "new_data = data.sort_values(by=[\"Mean\"], axis=0, ascending=False)[:30]"
   ]
  },
  {
   "cell_type": "code",
   "execution_count": null,
   "id": "889ca160",
   "metadata": {},
   "outputs": [],
   "source": [
    "main_chart = alt.Chart(new_data, title=\"List of Best 30 Stocks\").mark_point(color=\"red\").encode(\n",
    "alt.X(\"Mean:Q\")\n",
    "    .title(\"Levy: blue, Mean: red, Momentum: green\")\n",
    "    .scale(zero=False)\n",
    "    .axis(grid=False),\n",
    "alt.Y(\"Stock:N\")\n",
    "    .title(\"\")\n",
    "    .sort(\"-x\")\n",
    "    .axis(grid=True),\n",
    "#alt.Color(\"Mean:Q\")\n",
    "#    .legend(title=\"Mean\"),\n",
    ")\n",
    "\n",
    "chart_1= alt.Chart(new_data).mark_point(color=\"green\").encode(\n",
    "alt.X(\"Momentum:Q\")\n",
    "    .scale(zero=False)\n",
    "    .axis(grid=False),\n",
    "alt.Y(\"Stock:N\")\n",
    "    .sort()\n",
    "    .axis(grid=True),\n",
    "#alt.Color(\"Momentum:Q\")\n",
    "#    .legend(title=\"Momentum\")\n",
    ")\n",
    "\n",
    "chart_2 = alt.Chart(new_data).mark_point(color=\"blue\").encode(\n",
    "alt.X(\"Levy:Q\")\n",
    "    .scale(zero=False)\n",
    "    .axis(grid=False),\n",
    "alt.Y(\"Stock:N\")\n",
    "    .sort()\n",
    "    .axis(grid=True),\n",
    "\n",
    "#alt.Color(\"Levy\")\n",
    "#    .legend(title=\"Levy\")\n",
    ")\n",
    "(main_chart+chart_1+chart_2).properties(height=alt.Step(20)).configure_view(stroke=\"transparent\").save(\"Scoreboard.html\")"
   ]
  },
  {
   "cell_type": "code",
   "execution_count": null,
   "id": "0f60c563",
   "metadata": {},
   "outputs": [],
   "source": []
  }
 ],
 "metadata": {
  "kernelspec": {
   "display_name": "Python 3 (ipykernel)",
   "language": "python",
   "name": "python3"
  },
  "language_info": {
   "codemirror_mode": {
    "name": "ipython",
    "version": 3
   },
   "file_extension": ".py",
   "mimetype": "text/x-python",
   "name": "python",
   "nbconvert_exporter": "python",
   "pygments_lexer": "ipython3",
   "version": "3.11.3"
  }
 },
 "nbformat": 4,
 "nbformat_minor": 5
}
