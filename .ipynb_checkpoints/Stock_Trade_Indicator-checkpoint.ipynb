{
 "cells": [
  {
   "cell_type": "code",
   "execution_count": 1,
   "id": "ad740e21",
   "metadata": {},
   "outputs": [],
   "source": [
    "import pandas as pd\n",
    "import numpy as np\n",
    "from yahooquery import Ticker\n",
    "import yfinance as yf\n",
    "import matplotlib.pyplot as plt\n",
    "from datetime import date, timedelta\n",
    "import altair as alt"
   ]
  },
  {
   "cell_type": "code",
   "execution_count": 50,
   "id": "a106128a",
   "metadata": {},
   "outputs": [],
   "source": [
    "link = (\"https://en.wikipedia.org/wiki/List_of_S%26P_500_companies#S&P_500_component_stocks\")\n",
    "sp500_raw = pd.read_html(link, header=0)[0]\n",
    "sp500 = [str(stock) for stock in sp500_raw[\"Symbol\"]]"
   ]
  },
  {
   "cell_type": "code",
   "execution_count": 3,
   "id": "a31f780a",
   "metadata": {},
   "outputs": [
    {
     "data": {
      "text/plain": [
       "('2023-3-18', '2023-9-23', '2023-8-26', '2023-9-23')"
      ]
     },
     "execution_count": 3,
     "metadata": {},
     "output_type": "execute_result"
    }
   ],
   "source": [
    "today = date.today()\n",
    "start_date = date.today() - timedelta(weeks=27)\n",
    "start_date = f\"{start_date.year}-{start_date.month}-{start_date.day}\"\n",
    "today = f\"{today.year}-{today.month}-{today.day}\"\n",
    "momentum_start = date.today() - timedelta(weeks=4)\n",
    "momentum_start = f\"{momentum_start.year}-{momentum_start.month}-{momentum_start.day}\"\n",
    "start_date, today, momentum_start, today"
   ]
  },
  {
   "cell_type": "code",
   "execution_count": 51,
   "id": "3d1416d1",
   "metadata": {},
   "outputs": [],
   "source": [
    "def compass(stocks):\n",
    "    _data_points = [\"Stock\",\"Momentum\", \"Levy\"]\n",
    "    updated_stocks = []\n",
    "    for stock in stocks:\n",
    "        if len(pd.DataFrame(yf.Ticker(stock).history(start=start_date))[\"Close\"]) != 0:\n",
    "            updated_stocks.append(stock)\n",
    "        else:\n",
    "            pass\n",
    "    data = pd.DataFrame({\"Stock\": updated_stocks, \"Momentum\": None, \"Levy\": None}, index=updated_stocks)\n",
    "    for stock in updated_stocks:\n",
    "        data.loc[stock][\"Stock\"] = pd.DataFrame(sp500_raw).set_index(sp500_raw[\"Symbol\"]).loc[stock][\"Security\"]\n",
    "        data.loc[stock][\"Momentum\"] = momentum(stock)\n",
    "        data.loc[stock][\"Levy\"] = relative_strength(stock)\n",
    "    return data\n",
    "      \n",
    "def relative_strength(stock, start=start_date):\n",
    "    constructor = pd.DataFrame(yf.Ticker(stock).history(start=start))\n",
    "    strength = constructor[\"Close\"][-1] / np.mean(constructor[\"Close\"][:-1])\n",
    "    return strength\n",
    "\n",
    "def momentum(stock, start=momentum_start):\n",
    "    constructor = pd.DataFrame(yf.Ticker(stock).history(start=start))\n",
    "    moment = constructor[\"Close\"][-1] / constructor[\"Close\"][0]\n",
    "    return moment"
   ]
  },
  {
   "cell_type": "code",
   "execution_count": 52,
   "id": "7f1de598",
   "metadata": {},
   "outputs": [],
   "source": [
    "data = compass(sp500[:20])\n",
    "data"
   ]
  },
  {
   "cell_type": "code",
   "execution_count": 54,
   "id": "a9c25da5",
   "metadata": {
    "scrolled": true
   },
   "outputs": [
    {
     "data": {
      "text/html": [
       "\n",
       "<style>\n",
       "  #altair-viz-76b347a4870e40a2bf5dbd35f1bde55c.vega-embed {\n",
       "    width: 100%;\n",
       "    display: flex;\n",
       "  }\n",
       "\n",
       "  #altair-viz-76b347a4870e40a2bf5dbd35f1bde55c.vega-embed details,\n",
       "  #altair-viz-76b347a4870e40a2bf5dbd35f1bde55c.vega-embed details summary {\n",
       "    position: relative;\n",
       "  }\n",
       "</style>\n",
       "<div id=\"altair-viz-76b347a4870e40a2bf5dbd35f1bde55c\"></div>\n",
       "<script type=\"text/javascript\">\n",
       "  var VEGA_DEBUG = (typeof VEGA_DEBUG == \"undefined\") ? {} : VEGA_DEBUG;\n",
       "  (function(spec, embedOpt){\n",
       "    let outputDiv = document.currentScript.previousElementSibling;\n",
       "    if (outputDiv.id !== \"altair-viz-76b347a4870e40a2bf5dbd35f1bde55c\") {\n",
       "      outputDiv = document.getElementById(\"altair-viz-76b347a4870e40a2bf5dbd35f1bde55c\");\n",
       "    }\n",
       "    const paths = {\n",
       "      \"vega\": \"https://cdn.jsdelivr.net/npm/vega@5?noext\",\n",
       "      \"vega-lib\": \"https://cdn.jsdelivr.net/npm/vega-lib?noext\",\n",
       "      \"vega-lite\": \"https://cdn.jsdelivr.net/npm/vega-lite@5.14.1?noext\",\n",
       "      \"vega-embed\": \"https://cdn.jsdelivr.net/npm/vega-embed@6?noext\",\n",
       "    };\n",
       "\n",
       "    function maybeLoadScript(lib, version) {\n",
       "      var key = `${lib.replace(\"-\", \"\")}_version`;\n",
       "      return (VEGA_DEBUG[key] == version) ?\n",
       "        Promise.resolve(paths[lib]) :\n",
       "        new Promise(function(resolve, reject) {\n",
       "          var s = document.createElement('script');\n",
       "          document.getElementsByTagName(\"head\")[0].appendChild(s);\n",
       "          s.async = true;\n",
       "          s.onload = () => {\n",
       "            VEGA_DEBUG[key] = version;\n",
       "            return resolve(paths[lib]);\n",
       "          };\n",
       "          s.onerror = () => reject(`Error loading script: ${paths[lib]}`);\n",
       "          s.src = paths[lib];\n",
       "        });\n",
       "    }\n",
       "\n",
       "    function showError(err) {\n",
       "      outputDiv.innerHTML = `<div class=\"error\" style=\"color:red;\">${err}</div>`;\n",
       "      throw err;\n",
       "    }\n",
       "\n",
       "    function displayChart(vegaEmbed) {\n",
       "      vegaEmbed(outputDiv, spec, embedOpt)\n",
       "        .catch(err => showError(`Javascript Error: ${err.message}<br>This usually means there's a typo in your chart specification. See the javascript console for the full traceback.`));\n",
       "    }\n",
       "\n",
       "    if(typeof define === \"function\" && define.amd) {\n",
       "      requirejs.config({paths});\n",
       "      require([\"vega-embed\"], displayChart, err => showError(`Error loading script: ${err.message}`));\n",
       "    } else {\n",
       "      maybeLoadScript(\"vega\", \"5\")\n",
       "        .then(() => maybeLoadScript(\"vega-lite\", \"5.14.1\"))\n",
       "        .then(() => maybeLoadScript(\"vega-embed\", \"6\"))\n",
       "        .catch(showError)\n",
       "        .then(() => displayChart(vegaEmbed));\n",
       "    }\n",
       "  })({\"config\": {\"view\": {\"continuousWidth\": 300, \"continuousHeight\": 300}}, \"layer\": [{\"mark\": {\"type\": \"point\"}, \"encoding\": {\"x\": {\"field\": \"Levy\", \"scale\": {\"domain\": [0.5, 1.5]}, \"type\": \"quantitative\"}, \"y\": {\"field\": \"Momentum\", \"scale\": {\"domain\": [0.5, 1.5]}, \"type\": \"quantitative\"}}, \"name\": \"view_3\"}, {\"mark\": {\"type\": \"text\", \"align\": \"left\", \"baseline\": \"middle\", \"dx\": 10}, \"encoding\": {\"text\": {\"field\": \"Stock\", \"type\": \"nominal\"}, \"x\": {\"field\": \"Levy\", \"scale\": {\"domain\": [0.5, 1.5]}, \"type\": \"quantitative\"}, \"y\": {\"field\": \"Momentum\", \"scale\": {\"domain\": [0.5, 1.5]}, \"type\": \"quantitative\"}}}, {\"mark\": {\"type\": \"rule\", \"strokeDash\": [10, 10]}, \"encoding\": {\"y\": {\"datum\": 1}}}, {\"mark\": {\"type\": \"rule\", \"strokeDash\": [10, 10]}, \"encoding\": {\"x\": {\"datum\": 1}}}], \"data\": {\"name\": \"data-34713d13e0277cfa5b2ef55a3937028b\"}, \"height\": 500, \"params\": [{\"name\": \"param_3\", \"select\": {\"type\": \"interval\", \"encodings\": [\"x\", \"y\"]}, \"bind\": \"scales\", \"views\": [\"view_3\"]}], \"title\": \"Trending Stock Indicator\", \"width\": 500, \"$schema\": \"https://vega.github.io/schema/vega-lite/v5.14.1.json\", \"datasets\": {\"data-34713d13e0277cfa5b2ef55a3937028b\": [{\"Stock\": \"3M\", \"Momentum\": 0.9320015208961652, \"Levy\": 0.9624523600300585}, {\"Stock\": \"A. O. Smith\", \"Momentum\": 0.9123179602811838, \"Levy\": 0.9282123012544105}, {\"Stock\": \"Abbott\", \"Momentum\": 0.9548594284626811, \"Levy\": 0.9325116213611282}, {\"Stock\": \"AbbVie\", \"Momentum\": 1.0360171815857053, \"Levy\": 1.0456121804339242}, {\"Stock\": \"Accenture\", \"Momentum\": 0.9849801898687652, \"Levy\": 1.0562000275444277}, {\"Stock\": \"Activision Blizzard\", \"Momentum\": 1.0234281530404887, \"Levy\": 1.1068540657312798}, {\"Stock\": \"ADM\", \"Momentum\": 0.9518981172556861, \"Levy\": 0.9875085733090949}, {\"Stock\": \"Adobe Inc.\", \"Momentum\": 0.9678820217297234, \"Levy\": 1.1268586577134636}, {\"Stock\": \"ADP\", \"Momentum\": 0.9455863701860057, \"Levy\": 1.055643060312898}, {\"Stock\": \"AES Corporation\", \"Momentum\": 0.890624998336924, \"Levy\": 0.7682981181457933}, {\"Stock\": \"Aflac\", \"Momentum\": 1.023196509587892, \"Levy\": 1.1006649266426147}, {\"Stock\": \"Agilent Technologies\", \"Momentum\": 0.9290360687393697, \"Levy\": 0.8925991196662677}, {\"Stock\": \"Airbnb\", \"Momentum\": 1.04791723060868, \"Levy\": 1.0434341816832053}, {\"Stock\": \"Air Products and Chemicals\", \"Momentum\": 0.9888912893608975, \"Levy\": 0.9983843647848384}, {\"Stock\": \"Akamai\", \"Momentum\": 1.0419492518876876, \"Levy\": 1.185512869574278}, {\"Stock\": \"Alaska Air Group\", \"Momentum\": 0.8930697428200068, \"Levy\": 0.8272398268451168}, {\"Stock\": \"Albemarle Corporation\", \"Momentum\": 0.8889228189851495, \"Levy\": 0.8237828047687785}, {\"Stock\": \"Alexandria Real Estate Equities\", \"Momentum\": 0.8746653284307152, \"Levy\": 0.8589436131535639}, {\"Stock\": \"Align Technology\", \"Momentum\": 0.8324318142813176, \"Levy\": 0.8990228939839761}, {\"Stock\": \"Allegion\", \"Momentum\": 0.9409018110079586, \"Levy\": 0.943172717556349}]}}, {\"mode\": \"vega-lite\"});\n",
       "</script>"
      ],
      "text/plain": [
       "alt.LayerChart(...)"
      ]
     },
     "execution_count": 54,
     "metadata": {},
     "output_type": "execute_result"
    }
   ],
   "source": [
    "points = alt.Chart(data).mark_point().encode(\n",
    "    alt.X(\"Levy:Q\", scale=alt.Scale(domain=[0.5, 1.5])),\n",
    "    alt.Y(\"Momentum:Q\", scale=alt.Scale(domain=[0.5, 1.5]))\n",
    ")\n",
    "\n",
    "text = points.mark_text(align='left',baseline='middle',dx=10).encode(text=\"Stock\")\n",
    "#line_x = alt.Chart(pd.DataFrame({'x': [1]})).mark_rule().encode(y='x')\n",
    "#line_y = alt.Chart(pd.DataFrame({\"y\":[1]})).mark_rule().encode(x=\"y\")\n",
    "x_line = alt.Chart().mark_rule(strokeDash=[10, 10]).encode(y=alt.datum(1))\n",
    "y_line = alt.Chart().mark_rule(strokeDash=[10, 10]).encode(x=alt.datum(1))\n",
    "\n",
    "\n",
    "(points+text+x_line+y_line).properties(width=500,height=500, title=\"Trending Stock Indicator\").interactive()\n"
   ]
  },
  {
   "cell_type": "code",
   "execution_count": null,
   "id": "f0973f40",
   "metadata": {},
   "outputs": [],
   "source": []
  },
  {
   "cell_type": "code",
   "execution_count": null,
   "id": "33889966",
   "metadata": {},
   "outputs": [],
   "source": []
  },
  {
   "cell_type": "code",
   "execution_count": null,
   "id": "21b57c10",
   "metadata": {},
   "outputs": [],
   "source": []
  },
  {
   "cell_type": "code",
   "execution_count": null,
   "id": "d6cfe2d8",
   "metadata": {},
   "outputs": [],
   "source": []
  }
 ],
 "metadata": {
  "kernelspec": {
   "display_name": "Python 3 (ipykernel)",
   "language": "python",
   "name": "python3"
  },
  "language_info": {
   "codemirror_mode": {
    "name": "ipython",
    "version": 3
   },
   "file_extension": ".py",
   "mimetype": "text/x-python",
   "name": "python",
   "nbconvert_exporter": "python",
   "pygments_lexer": "ipython3",
   "version": "3.11.3"
  }
 },
 "nbformat": 4,
 "nbformat_minor": 5
}
